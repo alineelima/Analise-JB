{
 "cells": [
  {
   "cell_type": "code",
   "execution_count": 15,
   "metadata": {},
   "outputs": [
    {
     "name": "stderr",
     "output_type": "stream",
     "text": [
      "[nltk_data] Downloading package stopwords to /Users/aline/nltk_data...\n",
      "[nltk_data]   Package stopwords is already up-to-date!\n"
     ]
    },
    {
     "data": {
      "text/plain": [
       "True"
      ]
     },
     "execution_count": 15,
     "metadata": {},
     "output_type": "execute_result"
    }
   ],
   "source": [
    "import os\n",
    "import numpy as np\n",
    "import matplotlib.pyplot as plt\n",
    "from collections import Counter\n",
    "from wordcloud import WordCloud\n",
    "import nltk\n",
    "nltk.download('stopwords')"
   ]
  },
  {
   "cell_type": "code",
   "execution_count": 18,
   "metadata": {},
   "outputs": [
    {
     "name": "stdout",
     "output_type": "stream",
     "text": [
      "['A COVARDIA DO MEC NA IDEOLOGIA DE GÊNERO-ED38BZXcV9c.pt.txt', 'A POCILGA ê O LUGAR DA DILMA-TqLiy43xr70.pt.txt', 'AUTODETERMINAÇÃO DOS POVOS INDÍGENAS-tTnCTW-US7Y.pt.txt', 'BOLSONARO - MAIS UMA ESCOVADA NA MARIA DO ROSÁRIO-rxZwWwMgly8.pt.txt', 'BOLSONARO CONDENADO-hR1g_rPhFHk.pt.txt', 'BOLSONARO E A NOVA COMISSÃO DE DIREITOS HUMANOS-R87dhAeLzx8.pt.txt', 'BOLSONARO E AS COTAS-AqzUopE1l8k.pt.txt', 'BOLSONARO E PNDH3-EWzeqhITpoM.pt.txt', 'BOLSONARO ESCOVA MARIA DO ROSÁRIO-oFUsd1e-6zE.pt.txt', 'BOLSONARO, CARLOS - PERFIL-wKsB5wo6eNk.pt.txt', 'CONTRA A CULTURA DO ESTUPRA MAS NÃO CASTRA-LpeLi9aZcZM.pt.txt', 'COVARDIA DO PT COM OS PAIS E AS CRIANÄAS NAS ESCOLAS-5S5nAwQQJvY.pt.txt', 'CPI DA CENSURA À INTERNET-Rrr7wFsq2L8.pt.txt', 'DESFILIAÇÃO DO PP – O PRIMEIRO PASSO-i23AmpT7aPU.pt.txt', 'DILMA ASSALTAVA COM EX-MARIDO-oxyZB1vWD3o.pt.txt', 'DILMA E O ESTADO ISLÂMICO-HSNwvJbsmtY.pt.txt', 'DIREITOS HUMANOS DE TEMER TRABALHA CONTRA TEMER-n0KxMkE6obY.pt.txt', 'DIVIDIR PARA CONQUISTAR-cUIsAnQpSLU.pt.txt', 'EMENDA AO ORÄAMENTO PARA GARANTIR OS 28,86%-dy8OPUXSRLQ.pt.txt', 'ENGOLIR A MENTIRA, NUNCA!-eGC_MO4QfSo.pt.txt', 'ESTATUTO DA JUVENTUDE-ChMkOiDi3yk.pt.txt', 'EXEMPLO VEM DE CASA-lKTFlvP41B0.pt.txt', 'FIM DA PROPRIEDADE PRIVADA - II-7--sGSplmOI.pt.txt', 'Grande Expediente Parte 2-eTNKj-bAawQ.pt.txt', 'Grande Expediente Parte1-vuVyo6Wogfs.pt.txt', 'HOMOFOBIA-mbiNDU3ztyw.pt.txt', 'IMPEACHMENT DILMA - EDUARDO BOLSONARO-s3eXqXjHOdY.pt.txt', 'JAIR BOLSONARO - VOTO ELETRÔNICO, UMA FARSA-ysRF76SqHQ0.pt.txt', 'JAIR BOLSONARO E A INTERVENÇÃO MILITAR-2e995MP5oyY.pt.txt', 'LEGALIZAÇÃO DAS DROGAS-_qN0n7IDD1k.pt.txt', 'links.txt', 'MAIORIDADE PENAL-jWQFdCR-2-c.pt.txt', 'MEDIDAS DE COMBATE À CORRUPÇÃO NAS MÃOS DO STF-Pj7UMNf6kEs.pt.txt', 'MêDICOS ESTRANGEIROS - MP 621-UJHLKSUBL-M.pt.txt', 'NÃO AOS MÉDICOS CUBANOS-i8sqOOcjQ34.pt.txt', 'O PASSADO OCULTO DE DILMA-TOebT8EVmsA.pt.txt', 'O PT E A FAMÍLIA-EAP_oCoXnMI.pt.txt', 'O PT E A LIBERDADE DE IMPRENSA-HsUva_s78qg.pt.txt', 'O PT E O FIM DA PROPRIEDADE PRIVADA-EHhLr-wYicw.pt.txt', 'O PT TEM MEDO DA VERDADE-tuNybo7xPRk.pt.txt', 'OCUPAÇÕES NAS ESCOLAS, A ESQUERDA APOSTA NO CAOS PELO PODER.-6Szdf2rsjLs.pt.txt', 'OS MILITARES E O CONGRESSO--QKV4rsBl9c.pt.txt', 'PCdoB CONTRA IMPEACHMENT-3njr32DXkEA.pt.txt', 'PEC DAS DOMêSTICAS - PORQUE EU VOTEI CONTRA-24mY2urwvc8.pt.txt', 'PL122 E O SERVIÇO MILITAR OBRIGATÓRIO-XErFO0Hu08s.pt.txt', 'PLP 257 - VOTO CONTRA-a-1thaoL5oU.pt.txt', 'PM HERÓI É TRATADO COMO MARGINAL-03LlMMtlFEU.pt.txt', 'PORTE DE ARMA - 16 ANOS - AUTO DE RESISTÊNCIA-fPJ02jeHGLQ.pt.txt', 'PREFIRO VIVER COM DIGNIDADE NA PLANÍCIE DO QUE COMO RATO NO PLANALTO-heQINSkmcJY.pt.txt', 'PRESIDENTES MILITARES-tyJey5T6xPk.pt.txt', 'Presídios - sugestão de Jair Bolsonaro-N0WCwbYd1EU.pt.txt', 'PROGRAMA MAUS MêDICOS - MP 621-dXx-j2oeuCU.pt.txt', 'PT QUER LEGALIZAR PROSTÍBULOS-LvawPaQoVvk.pt.txt', 'QUEM ê CARLOS BOLSONARO!-qwafB-rZwxQ.pt.txt', 'REDUÇÃO DA MAIORIDADE PENAL-PlD7IhOgzqU.pt.txt', 'Remuneração e Promoções dos Militares - Compromisso da Presidente-c38rO8cRwss.pt.txt', 'RESPEITO À RELIGIÃO-GDvCqfNw-vg.pt.txt', 'SALÁRIO DOS MILITARES _ COLÉGIO MILITAR-cj_SrxKcR_I.pt.txt', 'SALÁRIO DOS MILITARES E A COMISSÃO DA VERDADE-V4_A_St5AME.pt.txt', 'SALÁRIO DOS MILITARES-8kst_sdMdJo.pt.txt', 'Seguranáa P£blica-xZWwiJjGsao.pt.txt', 'UNIVERSITÁRIOS QUE BEBEM NA FONTE-_mHMaD-d73w.pt.txt', 'VENEZUELA E O MST-kdrYrfgTey4.pt.txt']\n"
     ]
    }
   ],
   "source": [
    "path = \"files/youtube_files\"\n",
    "all_files = os.listdir(path)   # imagine you're one directory above test dir\n",
    "#print(all_files)\n",
    "txt_files = list(filter(lambda x: x[-4:] == '.txt', all_files))\n",
    "print(txt_files)  # only text files"
   ]
  },
  {
   "cell_type": "code",
   "execution_count": 42,
   "metadata": {},
   "outputs": [
    {
     "name": "stdout",
     "output_type": "stream",
     "text": [
      "o estado combativo defender-se de festa da farinha é verdade já emocionar você tem até três minutos na tribuna ser presidente eu quero na linha um pouco mais agressiva do meu companheiro vitor vale que falou sobre ideologia de gênero agora pouco o começo a palavra canalha a proposta do pt para as crianças nas escolas do ensino fundamental o pt que é transformar criancinhas this is it 67 anos de idade rpm sexuais e escancara as portas para pedofilia deixo bem claro mas aqui na câmara começou especial rejeitamos a ideologia de gênero a mesma coisa senado foi rejeitou o órgão vinculado ao mec a conferência nacional de educação orientar as coisas 6 mil prefeituras do brasil a incluir no plano decenal de educação municipal a energia do gênero é seja ensinando o filho do pobre que aquele que volta à escola pública aquele que recebe o bolsa família que ele apesar de ter um a pés ele não é um homem nem menina e nem uma coisa qualquer e mais orienta que o garoto é experiente ou seja deu um abraço e uma menina e do menino também que a menina faz a mesma coisa eu abraço o menino e na minha também isso é política de canalha porque a palavra que eu posso falar aqui eu tenho vontade de falar eta de bom jesus o termômetro bota essa porcaria do talento não fica bettoni provido povo aqui respeita essa respeite a família brasileira isso é atitude de canalha tem a cara do pt essa determinação do mec porque tá publicado em diário oficial da união a responsabilidade é da dilma rousseff mas não é que o governo nada uma mulher que não tem caráter não ter moral às crianças é o que existe de mais sagrado no meio de uma família o hummer uma mulher se transforma quando tem um filho o homem não quer chegar em casa e ver seu filho brincando de boneca ter sido orientado nas escolas escola onde dilma rousseff no pp quer através da canalhice transformar um gordão o efetivo a criança não sabe que é sexo ainda nesses canalhas agora perdeu na câmera via mac que tem o ministro também que tais que na quinta nada e amanhã vou comemorar ainda o ano da lei que chama-se de educação pelas fezes do cachorro eu tiver mais colegas que não vem sozinho é pra ser massacrado quero elemec colchão é o ministro reconheceu o executivo é dono do dinheiro o vencedor e eu tenho que tomar providência ganhou seu presente a questão de um menino que 12 14 anos que sente menina ou dá uma de menina e eles é que estão entrando no banheiro das meninas através da resolução de um conselho vinculado a esse lixo chamado secretaria na sede do mês que só defende vagabundo e canalhas que têm a mesma política que o pt trata do tema e rezo das crianças na escola ensino fundamental desde de canalhas deixa as crianças têm pais\n"
     ]
    }
   ],
   "source": [
    "x = path + '/A COVARDIA DO MEC NA IDEOLOGIA DE GÊNERO-ED38BZXcV9c.pt.txt' \n",
    "f = open(x,'r')\n",
    "lines = f.readlines()\n",
    "#print (lines)\n",
    "separator = ' '\n",
    "result = [separator.join(lines)]\n",
    "result = result[0].replace('\\n', '')\n",
    "print(result)"
   ]
  },
  {
   "cell_type": "code",
   "execution_count": null,
   "metadata": {},
   "outputs": [],
   "source": []
  },
  {
   "cell_type": "code",
   "execution_count": null,
   "metadata": {},
   "outputs": [],
   "source": []
  },
  {
   "cell_type": "code",
   "execution_count": null,
   "metadata": {},
   "outputs": [],
   "source": []
  }
 ],
 "metadata": {
  "kernelspec": {
   "display_name": "Python 3",
   "language": "python",
   "name": "python3"
  },
  "language_info": {
   "codemirror_mode": {
    "name": "ipython",
    "version": 3
   },
   "file_extension": ".py",
   "mimetype": "text/x-python",
   "name": "python",
   "nbconvert_exporter": "python",
   "pygments_lexer": "ipython3",
   "version": "3.7.4"
  }
 },
 "nbformat": 4,
 "nbformat_minor": 2
}
