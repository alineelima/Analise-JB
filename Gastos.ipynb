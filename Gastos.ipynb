{
 "cells": [
  {
   "cell_type": "code",
   "execution_count": 3,
   "metadata": {},
   "outputs": [
    {
     "name": "stdout",
     "output_type": "stream",
     "text": [
      "Total retornado API Câmara: R$ 0.00\n"
     ]
    }
   ],
   "source": [
    "import requests\n",
    "total = 0\n",
    "fornecedores = {}\n",
    "cnpjCpfFornecedores = {}\n",
    "for pag in range(1, 46):\n",
    "  u = f'https://dadosabertos.camara.leg.br/api/v2/deputados/74847/despesas?ordem=ASC&ordenarPor=ano&pagina={pag}&itens=100'\n",
    "  r = requests.get(u).json()\n",
    "  for gasto in r['dados']:\n",
    "    valor = float(gasto['valorLiquido'])\n",
    "    total = total + valor\n",
    "    nome = gasto['nomeFornecedor']\n",
    "    cnpjCpf = gasto['cnpjCpfFornecedor']\n",
    "    if cnpjCpf not in cnpjCpfFornecedores:\n",
    "      cnpjCpfFornecedores[cnpjCpf] = valor\n",
    "      fornecedores[cnpjCpf] = nome\n",
    "    else:\n",
    "      cnpjCpfFornecedores[cnpjCpf] = cnpjCpfFornecedores[cnpjCpf] + valor\n",
    "\n",
    "print (f'Total retornado API Câmara: R$ {total:.2f}')\n",
    "def chave(f): return f[1]\n",
    "maiores = sorted(cnpjCpfFornecedores.items(), key=chave, reverse=True)\n",
    "for cnpjcpf, valor in maiores[:50]:\n",
    "    print (cnpjcpf, fornecedores[cnpjcpf], f'R$ {valor:.2f}')"
   ]
  },
  {
   "cell_type": "code",
   "execution_count": null,
   "metadata": {},
   "outputs": [],
   "source": []
  }
 ],
 "metadata": {
  "kernelspec": {
   "display_name": "Python 3",
   "language": "python",
   "name": "python3"
  },
  "language_info": {
   "codemirror_mode": {
    "name": "ipython",
    "version": 3
   },
   "file_extension": ".py",
   "mimetype": "text/x-python",
   "name": "python",
   "nbconvert_exporter": "python",
   "pygments_lexer": "ipython3",
   "version": "3.6.9"
  }
 },
 "nbformat": 4,
 "nbformat_minor": 2
}
