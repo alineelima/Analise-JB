{
 "cells": [
  {
   "cell_type": "code",
<<<<<<< HEAD
   "execution_count": 1,
=======
   "execution_count": 3,
>>>>>>> gráfico de imagens e organização do código
   "metadata": {},
   "outputs": [
    {
     "name": "stdout",
     "output_type": "stream",
     "text": [
<<<<<<< HEAD
      "Total retornado API Câmara: R$ 2864790.54\n",
      "34028316577052 EMPRESA BRASILEIRA DE CORREIOS E TELÉGRAFOS R$ 608227.65\n",
      "07575651000159 VRG LINHAS AÉREAS S. A. R$ 439075.36\n",
      "40166704000153 M. R. CEDA IMPRESSOS LTDA R$ 282488.68\n",
      "00540252000103 PAPELARIA ABC COM E IND LTDA R$ 188877.89\n",
      "02012862000160 Cia Aérea - TAM R$ 179142.88\n",
      "18509834000192 COPYLINE SERVIÇOS GRÁFICOS E COMUNICAÇÃO VISUAL LTDA R$ 158340.00\n",
      "10892621000180 KARPER RENT A CAR R$ 93916.82\n",
      "27677913000101 R. A. MANDULA SERVIÇOS GRÁFICOS E EDITORA LTDA R$ 79060.14\n",
      "32337784000134 MEIRELLES CUNHA GRÁFICA LTDA - ME R$ 65272.00\n",
      "00915792000124 EMPRESA BRASILEIRA DE CORREIOS E TELÉGRAFOS R$ 57231.50\n",
      "00000000000007 CORREIOS - CARTA REGISTRADA R$ 53337.01\n",
      "02351877000152 LOCAWEB SERVIÇOS DE INTERNET S/A R$ 48593.50\n",
      "00409490000184 SVM - SERVIÇOS POSTAIS LTDA R$ 46914.25\n",
      "38024675000143 QUASAR LOCADORA DE VEÍCULOS LTDA R$ 46093.33\n",
      "66970229001805 NEXTEL TELECOMUNICAÇÕES LTDA R$ 45968.32\n",
      "40432544006269 CLARO S/A R$ 37544.64\n",
      "34028316004281 ECT - EMP BRAS DE CORREIOS E TELEGR R$ 37503.77\n",
      "09296295000160 Cia Aérea - AZUL R$ 30101.38\n",
      "37135001000153 EMP. BRAS. DE CORREIOS E TELÉGRAFOS R$ 28457.50\n",
      "00000000000006 RAMAL R$ 24799.25\n",
      "34028316071043 ECT R$ 21560.31\n",
      "40432544044004 CLARO S/A R$ 17206.62\n",
      "66970229000167 NEXTEL TELECOMUNICAÇÕES LTDA R$ 16500.00\n",
      "60444437000146 LIGHT SERVIÇOS DE ELETRICIDADE S. A. R$ 15141.04\n",
      "04068690000171 RISK - SHOPPING DO ALUNO LIVRARIA E PAPELARIA LTDA R$ 14080.00\n",
      "00328999000100 ECT - EMP. BRAS. DE CORREIOS E TELÉGRAFOS R$ 14032.00\n",
      "11127500000105 GBI - GRÁFICA E EDITORA LTDA R$ 11050.00\n",
      "34128660000174 AUTO POSTO POMBAL LTDA R$ 10172.80\n",
      "29498953000103 LAWTON COMÉRCIO DE MATERIAIS GRÁFICOS LTDA R$ 9810.00\n",
      "33000118000179 TELEMAR NORTE LESTE S/A R$ 9469.38\n",
      "42350785000172 AUTO SERVIÇO ROCAR RIO LTDA R$ 9363.80\n",
      "10592523000128 LOGOS - LUIZ AUGUSTO GIMENEZ QUARTIN R$ 7790.00\n",
      "76535764000143 BRASIL TELECOM - OI R$ 7431.32\n",
      "10750039000180 IMPERIAL - MARCIO SOARES DE QUEIROZ R$ 6972.77\n",
      "03770113000164 SEUNI - MARKETING E PRODUÇÕES EM ARTES GRÁFICAS R$ 6801.00\n",
      "76535764032690 BRASIL TELECOM S/A R$ 5900.77\n",
      "06335739000130 NETSHOP INFORMÁTICA LTDA R$ 4729.00\n",
      "00679365000194 ASCADE - ASS. DOS SERV. DA CÂMARA DOS DEPUTAD R$ 4724.57\n",
      "02558157000162 TELEFONICA BRASIL S.A. R$ 4322.38\n",
      "02575829000148 Cia Aérea - AVIANCA R$ 4305.29\n",
      "09054158000119 PBJM COMÉRCIO DE GÊNEROS ALIM LTDA R$ 4160.21\n",
      "05730375000120 Cia Aérea - WEBJET R$ 4064.86\n",
      "34028316342845 EMPRESA BRASILEIRA DE CORREIOS E TELEGRAFOS R$ 3901.51\n",
      "72878002000199 O REI DOS ENVELOPES - GRÁF COM DISTR LTDA R$ 3900.00\n",
      "00623904000335 APPLE COMPUTER BRASIL LTDA R$ 3898.00\n",
      "33352394000104 CEDAE - CIA ESTADUAL DE ÁGUAS E ESGOTOS R$ 3585.87\n",
      "02558157000243 TELEFONICA BRASIL S.A. R$ 3414.43\n",
      "34028316003803 ECT - EMPR. BRAS. DE CORREIOS E TELÉGRAFOS R$ 3396.35\n",
      "06164253000187 GOL LINHAS AÉREAS INTELIGENTES S. A. R$ 3350.20\n",
      "08842765000180 K2 SERVIÇOS EM TECNOLOGIA DA INFORMAÇÃO LTDA R$ 3300.00\n"
=======
      "Total retornado API Câmara: R$ 0.00\n"
>>>>>>> gráfico de imagens e organização do código
     ]
    }
   ],
   "source": [
    "import requests\n",
    "total = 0\n",
    "fornecedores = {}\n",
    "cnpjCpfFornecedores = {}\n",
    "for pag in range(1, 46):\n",
    "  u = f'https://dadosabertos.camara.leg.br/api/v2/deputados/74847/despesas?ordem=ASC&ordenarPor=ano&pagina={pag}&itens=100'\n",
    "  r = requests.get(u).json()\n",
    "  for gasto in r['dados']:\n",
    "    valor = float(gasto['valorLiquido'])\n",
    "    total = total + valor\n",
    "    nome = gasto['nomeFornecedor']\n",
    "    cnpjCpf = gasto['cnpjCpfFornecedor']\n",
    "    if cnpjCpf not in cnpjCpfFornecedores:\n",
    "      cnpjCpfFornecedores[cnpjCpf] = valor\n",
    "      fornecedores[cnpjCpf] = nome\n",
    "    else:\n",
    "      cnpjCpfFornecedores[cnpjCpf] = cnpjCpfFornecedores[cnpjCpf] + valor\n",
    "\n",
    "print (f'Total retornado API Câmara: R$ {total:.2f}')\n",
    "def chave(f): return f[1]\n",
    "maiores = sorted(cnpjCpfFornecedores.items(), key=chave, reverse=True)\n",
    "for cnpjcpf, valor in maiores[:50]:\n",
    "    print (cnpjcpf, fornecedores[cnpjcpf], f'R$ {valor:.2f}')"
   ]
  },
  {
   "cell_type": "code",
   "execution_count": null,
   "metadata": {},
   "outputs": [],
   "source": []
  }
 ],
 "metadata": {
  "kernelspec": {
   "display_name": "Python 3",
   "language": "python",
   "name": "python3"
  },
  "language_info": {
   "codemirror_mode": {
    "name": "ipython",
    "version": 3
   },
   "file_extension": ".py",
   "mimetype": "text/x-python",
   "name": "python",
   "nbconvert_exporter": "python",
   "pygments_lexer": "ipython3",
   "version": "3.6.9"
  }
 },
 "nbformat": 4,
 "nbformat_minor": 2
}
